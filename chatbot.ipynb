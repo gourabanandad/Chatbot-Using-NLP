{
 "cells": [
  {
   "cell_type": "code",
   "execution_count": 1,
   "id": "7be29a07-7c6d-417a-be33-d88caf61ec12",
   "metadata": {},
   "outputs": [],
   "source": [
    "import json\n",
    "import random\n",
    "from sklearn.feature_extraction.text import CountVectorizer\n",
    "from sklearn.metrics.pairwise import cosine_similarity\n",
    "import numpy as np"
   ]
  },
  {
   "cell_type": "code",
   "execution_count": 2,
   "id": "b37938e8-9713-4c2d-b33e-5ab8b2fba344",
   "metadata": {},
   "outputs": [],
   "source": [
    "with open(\"intent.json\", \"r\") as file:\n",
    "    data = json.load(file)"
   ]
  },
  {
   "cell_type": "code",
   "execution_count": 3,
   "id": "4894612b-d389-469b-b334-c5d1a8ab030d",
   "metadata": {},
   "outputs": [],
   "source": [
    "intents = data[\"intents\"]\n",
    "intent_texts = {intent[\"intent\"]: intent[\"text\"] for intent in intents}\n",
    "intent_responses = {intent[\"intent\"]: intent[\"responses\"] for intent in intents}"
   ]
  },
  {
   "cell_type": "code",
   "execution_count": 4,
   "id": "5729e7a9-ddf9-4bb2-a28a-05bb28e80300",
   "metadata": {},
   "outputs": [],
   "source": [
    "all_texts = []\n",
    "intent_map = []  # Map text to intent\n",
    "for intent, texts in intent_texts.items():\n",
    "    all_texts.extend(texts)\n",
    "    intent_map.extend([intent] * len(texts))"
   ]
  },
  {
   "cell_type": "code",
   "execution_count": 5,
   "id": "5e100f2f-20ff-4e45-a2ed-f43888735e66",
   "metadata": {},
   "outputs": [],
   "source": [
    "vectorizer = CountVectorizer().fit(all_texts)\n",
    "text_vectors = vectorizer.transform(all_texts)"
   ]
  },
  {
   "cell_type": "code",
   "execution_count": 6,
   "id": "ea3c0014-cd33-4b78-b18b-f98bc29d6fa5",
   "metadata": {},
   "outputs": [],
   "source": [
    "def preprocess_text(text):\n",
    "    text = text.lower()\n",
    "    return text"
   ]
  },
  {
   "cell_type": "code",
   "execution_count": 7,
   "id": "6f5b55fe-19a1-433d-bfe2-94978910f674",
   "metadata": {},
   "outputs": [],
   "source": [
    "def get_intent(user_input):\n",
    "    user_input = preprocess_text(user_input)\n",
    "    user_vector = vectorizer.transform([user_input])\n",
    "    similarity_scores = cosine_similarity(user_vector, text_vectors)\n",
    "    best_match_idx = np.argmax(similarity_scores)\n",
    "    confidence = similarity_scores[0, best_match_idx]\n",
    "    \n",
    "    if confidence > 0.3:  # Matching threshold\n",
    "        return intent_map[best_match_idx]\n",
    "    return None"
   ]
  },
  {
   "cell_type": "code",
   "execution_count": 8,
   "id": "1e33e11e-f03f-4c13-9e9d-a466fc52c0b3",
   "metadata": {},
   "outputs": [],
   "source": [
    "def get_response(intent):\n",
    "    if intent in intent_responses:\n",
    "        return random.choice(intent_responses[intent])\n",
    "    return \"I'm sorry, I don't understand that.\""
   ]
  },
  {
   "cell_type": "code",
   "execution_count": 9,
   "id": "ae68b2b9-ed59-4389-945c-7ea786c0c8f5",
   "metadata": {},
   "outputs": [
    {
     "name": "stdout",
     "output_type": "stream",
     "text": [
      "Chatbot: Hi! Type 'exit' to end the chat.\n"
     ]
    },
    {
     "name": "stdin",
     "output_type": "stream",
     "text": [
      "You:  Hi\n"
     ]
    },
    {
     "name": "stdout",
     "output_type": "stream",
     "text": [
      "Chatbot: Hello human, please tell me your GeniSys user\n"
     ]
    },
    {
     "name": "stdin",
     "output_type": "stream",
     "text": [
      "You:  How are you?\n"
     ]
    },
    {
     "name": "stdout",
     "output_type": "stream",
     "text": [
      "Chatbot: Hello, how are you? I am great thanks! Please tell me your GeniSys user\n"
     ]
    },
    {
     "name": "stdin",
     "output_type": "stream",
     "text": [
      "You:  exit\n"
     ]
    },
    {
     "name": "stdout",
     "output_type": "stream",
     "text": [
      "Chatbot: Goodbye!\n"
     ]
    }
   ],
   "source": [
    "print(\"Chatbot: Hi! Type 'exit' to end the chat.\")\n",
    "while True:\n",
    "    user_input = input(\"You: \")\n",
    "    if user_input.lower() == \"exit\":\n",
    "        print(\"Chatbot: Goodbye!\")\n",
    "        break\n",
    "    \n",
    "    intent = get_intent(user_input)\n",
    "    if intent:\n",
    "        response = get_response(intent)\n",
    "    else:\n",
    "        response = \"I'm sorry, I don't understand that.\"\n",
    "    \n",
    "    print(f\"Chatbot: {response}\")"
   ]
  }
 ],
 "metadata": {
  "kernelspec": {
   "display_name": "Python 3 (ipykernel)",
   "language": "python",
   "name": "python3"
  },
  "language_info": {
   "codemirror_mode": {
    "name": "ipython",
    "version": 3
   },
   "file_extension": ".py",
   "mimetype": "text/x-python",
   "name": "python",
   "nbconvert_exporter": "python",
   "pygments_lexer": "ipython3",
   "version": "3.12.4"
  }
 },
 "nbformat": 4,
 "nbformat_minor": 5
}
